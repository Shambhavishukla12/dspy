{
  "nbformat": 4,
  "nbformat_minor": 0,
  "metadata": {
    "colab": {
      "provenance": [],
      "authorship_tag": "ABX9TyM/uUBaSO7INQhOimgdyMHQ",
      "include_colab_link": true
    },
    "kernelspec": {
      "name": "python3",
      "display_name": "Python 3"
    },
    "language_info": {
      "name": "python"
    }
  },
  "cells": [
    {
      "cell_type": "markdown",
      "metadata": {
        "id": "view-in-github",
        "colab_type": "text"
      },
      "source": [
        "<a href=\"https://colab.research.google.com/github/Shambhavishukla12/dspy/blob/main/learnPython.ipynb\" target=\"_parent\"><img src=\"https://colab.research.google.com/assets/colab-badge.svg\" alt=\"Open In Colab\"/></a>"
      ]
    },
    {
      "cell_type": "code",
      "execution_count": 1,
      "metadata": {
        "id": "JKSVvVUeBZsk"
      },
      "outputs": [],
      "source": [
        "#learnPython"
      ]
    },
    {
      "cell_type": "code",
      "source": [
        "\n",
        "from IPython.display import Markdown, display\n",
        "\n",
        "# Display the markdown content\n",
        "display(Markdown(\"**In this notebook, Data Science Tools and Ecosystem are summarized.**\"))\n"
      ],
      "metadata": {
        "colab": {
          "base_uri": "https://localhost:8080/",
          "height": 46
        },
        "id": "U1Dufww0D2k1",
        "outputId": "0509e611-753f-4d58-dbc6-f9e092e5c77d"
      },
      "execution_count": 2,
      "outputs": [
        {
          "output_type": "display_data",
          "data": {
            "text/plain": [
              "<IPython.core.display.Markdown object>"
            ],
            "text/markdown": "**In this notebook, Data Science Tools and Ecosystem are summarized.**"
          },
          "metadata": {}
        }
      ]
    },
    {
      "cell_type": "code",
      "source": [
        "\n",
        "markdown_text = \"\"\"\n",
        "Some of the popular languages that Data Scientists use are:\n",
        "\n",
        "1. Python\n",
        "2. R\n",
        "3. SQL\n",
        "4. Julia\n",
        "5. Scala\n",
        "\"\"\"\n",
        "\n",
        "display(Markdown(markdown_text))\n"
      ],
      "metadata": {
        "colab": {
          "base_uri": "https://localhost:8080/",
          "height": 155
        },
        "id": "HiVtA4FGD5xN",
        "outputId": "fab8d7ec-dcf9-4951-ee53-3fc892ca7cd4"
      },
      "execution_count": 3,
      "outputs": [
        {
          "output_type": "display_data",
          "data": {
            "text/plain": [
              "<IPython.core.display.Markdown object>"
            ],
            "text/markdown": "\nSome of the popular languages that Data Scientists use are:\n\n1. Python  \n2. R  \n3. SQL  \n4. Julia  \n5. Scala\n"
          },
          "metadata": {}
        }
      ]
    },
    {
      "cell_type": "code",
      "source": [
        "\n",
        "from IPython.display import Markdown, display\n",
        "\n",
        "markdown_text = \"\"\"\n",
        "Some of the commonly used libraries used by Data Scientists include:\n",
        "\n",
        "1. Pandas\n",
        "2. NumPy\n",
        "3. Matplotlib\n",
        "4. Scikit-learn\n",
        "5. TensorFlow\n",
        "\"\"\"\n",
        "\n",
        "display(Markdown(markdown_text))\n"
      ],
      "metadata": {
        "colab": {
          "base_uri": "https://localhost:8080/",
          "height": 155
        },
        "id": "4yM3H4vFEbBH",
        "outputId": "894bd6c4-d2b2-40f4-8cbb-7eb8af364c9d"
      },
      "execution_count": 4,
      "outputs": [
        {
          "output_type": "display_data",
          "data": {
            "text/plain": [
              "<IPython.core.display.Markdown object>"
            ],
            "text/markdown": "\nSome of the commonly used libraries used by Data Scientists include:\n\n1. Pandas  \n2. NumPy  \n3. Matplotlib  \n4. Scikit-learn  \n5. TensorFlow\n"
          },
          "metadata": {}
        }
      ]
    },
    {
      "cell_type": "code",
      "source": [
        "\n",
        "from IPython.display import Markdown, display\n",
        "\n",
        "markdown_text = \"\"\"\n",
        "| Data Science Tools         |\n",
        "|----------------------------|\n",
        "| Jupyter Notebook           |\n",
        "| RStudio                    |\n",
        "| Apache Zeppelin            |\n",
        "\"\"\"\n",
        "\n",
        "display(Markdown(markdown_text))\n"
      ],
      "metadata": {
        "colab": {
          "base_uri": "https://localhost:8080/",
          "height": 143
        },
        "id": "haPyYPtdFD65",
        "outputId": "ef032084-a858-434d-ca1b-925f0c10eacb"
      },
      "execution_count": 5,
      "outputs": [
        {
          "output_type": "display_data",
          "data": {
            "text/plain": [
              "<IPython.core.display.Markdown object>"
            ],
            "text/markdown": "\n| Data Science Tools         |\n|----------------------------|\n| Jupyter Notebook           |\n| RStudio                    |\n| Apache Zeppelin            |\n"
          },
          "metadata": {}
        }
      ]
    },
    {
      "cell_type": "code",
      "source": [
        "\n",
        "\n",
        "markdown_text = \"\"\"\n",
        "### Below are a few examples of evaluating arithmetic expressions in Python\n",
        "\"\"\"\n",
        "\n",
        "display(Markdown(markdown_text))\n"
      ],
      "metadata": {
        "colab": {
          "base_uri": "https://localhost:8080/",
          "height": 58
        },
        "id": "xX2lOOBcF04b",
        "outputId": "5ddc7b96-1514-491d-d87d-f4abb4d55249"
      },
      "execution_count": 6,
      "outputs": [
        {
          "output_type": "display_data",
          "data": {
            "text/plain": [
              "<IPython.core.display.Markdown object>"
            ],
            "text/markdown": "\n### Below are a few examples of evaluating arithmetic expressions in Python\n"
          },
          "metadata": {}
        }
      ]
    },
    {
      "cell_type": "code",
      "source": [
        "\n",
        "# This is a simple arithmetic expression to multiply then add integers\n",
        "(3 * 4) + 5\n"
      ],
      "metadata": {
        "colab": {
          "base_uri": "https://localhost:8080/"
        },
        "id": "WMZVfKgjGWeq",
        "outputId": "1fbe5887-9f14-4590-90dd-af8095f5c500"
      },
      "execution_count": 7,
      "outputs": [
        {
          "output_type": "execute_result",
          "data": {
            "text/plain": [
              "17"
            ]
          },
          "metadata": {},
          "execution_count": 7
        }
      ]
    },
    {
      "cell_type": "code",
      "source": [
        "\n",
        "# This will convert 200 minutes to hours by dividing by 60\n",
        "200 / 60\n"
      ],
      "metadata": {
        "colab": {
          "base_uri": "https://localhost:8080/"
        },
        "id": "d5feiU5KGwmP",
        "outputId": "ea35a7ed-990b-4415-f6c6-4cad661f1a4f"
      },
      "execution_count": 8,
      "outputs": [
        {
          "output_type": "execute_result",
          "data": {
            "text/plain": [
              "3.3333333333333335"
            ]
          },
          "metadata": {},
          "execution_count": 8
        }
      ]
    },
    {
      "cell_type": "code",
      "source": [
        "\n",
        "markdown_text = \"\"\"\n",
        "## Author\n",
        "John Doe\n",
        "\"\"\"\n",
        "\n",
        "display(Markdown(markdown_text))\n"
      ],
      "metadata": {
        "colab": {
          "base_uri": "https://localhost:8080/",
          "height": 90
        },
        "id": "JR6sdD7iHUED",
        "outputId": "3e9462d6-c0fa-4ac5-bf90-37c63b0b94c2"
      },
      "execution_count": 9,
      "outputs": [
        {
          "output_type": "display_data",
          "data": {
            "text/plain": [
              "<IPython.core.display.Markdown object>"
            ],
            "text/markdown": "\n## Author  \nJohn Doe\n"
          },
          "metadata": {}
        }
      ]
    },
    {
      "cell_type": "code",
      "source": [
        "\n",
        "from IPython.display import Markdown, display\n",
        "\n",
        "markdown_text = \"\"\"\n",
        "**Objectives:**\n",
        "\n",
        "- List popular languages for Data Science\n",
        "- Identify commonly used libraries in Data Science\n",
        "- Describe open-source tools used by Data Scientists\n",
        "- Perform basic arithmetic operations in Python\n",
        "- Convert units using Python expressions\n",
        "\"\"\"\n",
        "\n",
        "display(Markdown(markdown_text))\n"
      ],
      "metadata": {
        "colab": {
          "base_uri": "https://localhost:8080/",
          "height": 139
        },
        "id": "vGunMNtIH08O",
        "outputId": "40421b65-fb6f-4888-87b6-3b806ca6d47d"
      },
      "execution_count": 10,
      "outputs": [
        {
          "output_type": "display_data",
          "data": {
            "text/plain": [
              "<IPython.core.display.Markdown object>"
            ],
            "text/markdown": "\n**Objectives:**\n\n- List popular languages for Data Science  \n- Identify commonly used libraries in Data Science  \n- Describe open-source tools used by Data Scientists  \n- Perform basic arithmetic operations in Python  \n- Convert units using Python expressions\n"
          },
          "metadata": {}
        }
      ]
    },
    {
      "cell_type": "code",
      "source": [],
      "metadata": {
        "id": "LJ4NIOd4IfEN"
      },
      "execution_count": null,
      "outputs": []
    }
  ]
}